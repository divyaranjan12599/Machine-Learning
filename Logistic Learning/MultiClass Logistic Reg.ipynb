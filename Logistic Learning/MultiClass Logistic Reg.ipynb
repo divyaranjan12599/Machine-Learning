{
 "cells": [
  {
   "cell_type": "code",
   "execution_count": 1,
   "metadata": {},
   "outputs": [],
   "source": [
    "import matplotlib.pyplot as plt\n",
    "from sklearn.datasets import load_digits"
   ]
  },
  {
   "cell_type": "code",
   "execution_count": 2,
   "metadata": {},
   "outputs": [],
   "source": [
    "digits = load_digits()"
   ]
  },
  {
   "cell_type": "code",
   "execution_count": 3,
   "metadata": {},
   "outputs": [
    {
     "data": {
      "text/plain": [
       "['DESCR', 'data', 'feature_names', 'frame', 'images', 'target', 'target_names']"
      ]
     },
     "execution_count": 3,
     "metadata": {},
     "output_type": "execute_result"
    }
   ],
   "source": [
    "dir(digits)"
   ]
  },
  {
   "cell_type": "code",
   "execution_count": 5,
   "metadata": {},
   "outputs": [
    {
     "data": {
      "text/plain": [
       "array([ 0.,  0.,  5., 13.,  9.,  1.,  0.,  0.,  0.,  0., 13., 15., 10.,\n",
       "       15.,  5.,  0.,  0.,  3., 15.,  2.,  0., 11.,  8.,  0.,  0.,  4.,\n",
       "       12.,  0.,  0.,  8.,  8.,  0.,  0.,  5.,  8.,  0.,  0.,  9.,  8.,\n",
       "        0.,  0.,  4., 11.,  0.,  1., 12.,  7.,  0.,  0.,  2., 14.,  5.,\n",
       "       10., 12.,  0.,  0.,  0.,  0.,  6., 13., 10.,  0.,  0.,  0.])"
      ]
     },
     "execution_count": 5,
     "metadata": {},
     "output_type": "execute_result"
    }
   ],
   "source": [
    "digits.data[0]"
   ]
  },
  {
   "cell_type": "code",
   "execution_count": 16,
   "metadata": {},
   "outputs": [
    {
     "data": {
      "text/plain": [
       "<matplotlib.image.AxesImage at 0x7fb60e40d588>"
      ]
     },
     "execution_count": 16,
     "metadata": {},
     "output_type": "execute_result"
    },
    {
     "data": {
      "text/plain": [
       "<Figure size 432x288 with 0 Axes>"
      ]
     },
     "metadata": {},
     "output_type": "display_data"
    },
    {
     "data": {
      "image/png": "[encoded data removed]",
      "text/plain": [
       "<Figure size 288x288 with 1 Axes>"
      ]
     },
     "metadata": {
      "needs_background": "light"
     },
     "output_type": "display_data"
    }
   ],
   "source": [
    "plt.gray()\n",
    "plt.matshow(digits.images[0])"
   ]
  },
  {
   "cell_type": "code",
   "execution_count": 12,
   "metadata": {},
   "outputs": [
    {
     "name": "stdout",
     "output_type": "stream",
     "text": [
      "Help on function colormaps in module matplotlib.pyplot:\n",
      "\n",
      "colormaps()\n",
      "    Matplotlib provides a number of colormaps, and others can be added using\n",
      "    :func:`~matplotlib.cm.register_cmap`.  This function documents the built-in\n",
      "    colormaps, and will also return a list of all registered colormaps if\n",
      "    called.\n",
      "    \n",
      "    You can set the colormap for an image, pcolor, scatter, etc,\n",
      "    using a keyword argument::\n",
      "    \n",
      "      imshow(X, cmap=cm.hot)\n",
      "    \n",
      "    or using the :func:`set_cmap` function::\n",
      "    \n",
      "      imshow(X)\n",
      "      pyplot.set_cmap('hot')\n",
      "      pyplot.set_cmap('jet')\n",
      "    \n",
      "    In interactive mode, :func:`set_cmap` will update the colormap post-hoc,\n",
      "    allowing you to see which one works best for your data.\n",
      "    \n",
      "    All built-in colormaps can be reversed by appending ``_r``: For instance,\n",
      "    ``gray_r`` is the reverse of ``gray``.\n",
      "    \n",
      "    There are several common color schemes used in visualization:\n",
      "    \n",
      "    Sequential schemes\n",
      "      for unipolar data that progresses from low to high\n",
      "    Diverging schemes\n",
      "      for bipolar data that emphasizes positive or negative deviations from a\n",
      "      central value\n",
      "    Cyclic schemes\n",
      "      for plotting values that wrap around at the endpoints, such as phase\n",
      "      angle, wind direction, or time of day\n",
      "    Qualitative schemes\n",
      "      for nominal data that has no inherent ordering, where color is used\n",
      "      only to distinguish categories\n",
      "    \n",
      "    Matplotlib ships with 4 perceptually uniform color maps which are\n",
      "    the recommended color maps for sequential data:\n",
      "    \n",
      "      =========   ===================================================\n",
      "      Colormap    Description\n",
      "      =========   ===================================================\n",
      "      inferno     perceptually uniform shades of black-red-yellow\n",
      "      magma       perceptually uniform shades of black-red-white\n",
      "      plasma      perceptually uniform shades of blue-red-yellow\n",
      "      viridis     perceptually uniform shades of blue-green-yellow\n",
      "      =========   ===================================================\n",
      "    \n",
      "    The following colormaps are based on the `ColorBrewer\n",
      "    <https://colorbrewer2.org>`_ color specifications and designs developed by\n",
      "    Cynthia Brewer:\n",
      "    \n",
      "    ColorBrewer Diverging (luminance is highest at the midpoint, and\n",
      "    decreases towards differently-colored endpoints):\n",
      "    \n",
      "      ========  ===================================\n",
      "      Colormap  Description\n",
      "      ========  ===================================\n",
      "      BrBG      brown, white, blue-green\n",
      "      PiYG      pink, white, yellow-green\n",
      "      PRGn      purple, white, green\n",
      "      PuOr      orange, white, purple\n",
      "      RdBu      red, white, blue\n",
      "      RdGy      red, white, gray\n",
      "      RdYlBu    red, yellow, blue\n",
      "      RdYlGn    red, yellow, green\n",
      "      Spectral  red, orange, yellow, green, blue\n",
      "      ========  ===================================\n",
      "    \n",
      "    ColorBrewer Sequential (luminance decreases monotonically):\n",
      "    \n",
      "      ========  ====================================\n",
      "      Colormap  Description\n",
      "      ========  ====================================\n",
      "      Blues     white to dark blue\n",
      "      BuGn      white, light blue, dark green\n",
      "      BuPu      white, light blue, dark purple\n",
      "      GnBu      white, light green, dark blue\n",
      "      Greens    white to dark green\n",
      "      Greys     white to black (not linear)\n",
      "      Oranges   white, orange, dark brown\n",
      "      OrRd      white, orange, dark red\n",
      "      PuBu      white, light purple, dark blue\n",
      "      PuBuGn    white, light purple, dark green\n",
      "      PuRd      white, light purple, dark red\n",
      "      Purples   white to dark purple\n",
      "      RdPu      white, pink, dark purple\n",
      "      Reds      white to dark red\n",
      "      YlGn      light yellow, dark green\n",
      "      YlGnBu    light yellow, light green, dark blue\n",
      "      YlOrBr    light yellow, orange, dark brown\n",
      "      YlOrRd    light yellow, orange, dark red\n",
      "      ========  ====================================\n",
      "    \n",
      "    ColorBrewer Qualitative:\n",
      "    \n",
      "    (For plotting nominal data, `.ListedColormap` is used,\n",
      "    not `.LinearSegmentedColormap`.  Different sets of colors are\n",
      "    recommended for different numbers of categories.)\n",
      "    \n",
      "    * Accent\n",
      "    * Dark2\n",
      "    * Paired\n",
      "    * Pastel1\n",
      "    * Pastel2\n",
      "    * Set1\n",
      "    * Set2\n",
      "    * Set3\n",
      "    \n",
      "    A set of colormaps derived from those of the same name provided\n",
      "    with Matlab are also included:\n",
      "    \n",
      "      =========   =======================================================\n",
      "      Colormap    Description\n",
      "      =========   =======================================================\n",
      "      autumn      sequential linearly-increasing shades of red-orange-yellow\n",
      "      bone        sequential increasing black-white color map with\n",
      "                  a tinge of blue, to emulate X-ray film\n",
      "      cool        linearly-decreasing shades of cyan-magenta\n",
      "      copper      sequential increasing shades of black-copper\n",
      "      flag        repetitive red-white-blue-black pattern (not cyclic at\n",
      "                  endpoints)\n",
      "      gray        sequential linearly-increasing black-to-white\n",
      "                  grayscale\n",
      "      hot         sequential black-red-yellow-white, to emulate blackbody\n",
      "                  radiation from an object at increasing temperatures\n",
      "      jet         a spectral map with dark endpoints, blue-cyan-yellow-red;\n",
      "                  based on a fluid-jet simulation by NCSA [#]_\n",
      "      pink        sequential increasing pastel black-pink-white, meant\n",
      "                  for sepia tone colorization of photographs\n",
      "      prism       repetitive red-yellow-green-blue-purple-...-green pattern\n",
      "                  (not cyclic at endpoints)\n",
      "      spring      linearly-increasing shades of magenta-yellow\n",
      "      summer      sequential linearly-increasing shades of green-yellow\n",
      "      winter      linearly-increasing shades of blue-green\n",
      "      =========   =======================================================\n",
      "    \n",
      "    A set of palettes from the `Yorick scientific visualisation\n",
      "    package <https://dhmunro.github.io/yorick-doc/>`_, an evolution of\n",
      "    the GIST package, both by David H. Munro are included:\n",
      "    \n",
      "      ============  =======================================================\n",
      "      Colormap      Description\n",
      "      ============  =======================================================\n",
      "      gist_earth    mapmaker's colors from dark blue deep ocean to green\n",
      "                    lowlands to brown highlands to white mountains\n",
      "      gist_heat     sequential increasing black-red-orange-white, to emulate\n",
      "                    blackbody radiation from an iron bar as it grows hotter\n",
      "      gist_ncar     pseudo-spectral black-blue-green-yellow-red-purple-white\n",
      "                    colormap from National Center for Atmospheric\n",
      "                    Research [#]_\n",
      "      gist_rainbow  runs through the colors in spectral order from red to\n",
      "                    violet at full saturation (like *hsv* but not cyclic)\n",
      "      gist_stern    \"Stern special\" color table from Interactive Data\n",
      "                    Language software\n",
      "      ============  =======================================================\n",
      "    \n",
      "    A set of cyclic color maps:\n",
      "    \n",
      "      ================  =================================================\n",
      "      Colormap          Description\n",
      "      ================  =================================================\n",
      "      hsv               red-yellow-green-cyan-blue-magenta-red, formed by\n",
      "                        changing the hue component in the HSV color space\n",
      "      twilight          perceptually uniform shades of\n",
      "                        white-blue-black-red-white\n",
      "      twilight_shifted  perceptually uniform shades of\n",
      "                        black-blue-white-red-black\n",
      "      ================  =================================================\n",
      "    \n",
      "    Other miscellaneous schemes:\n",
      "    \n",
      "      ============= =======================================================\n",
      "      Colormap      Description\n",
      "      ============= =======================================================\n",
      "      afmhot        sequential black-orange-yellow-white blackbody\n",
      "                    spectrum, commonly used in atomic force microscopy\n",
      "      brg           blue-red-green\n",
      "      bwr           diverging blue-white-red\n",
      "      coolwarm      diverging blue-gray-red, meant to avoid issues with 3D\n",
      "                    shading, color blindness, and ordering of colors [#]_\n",
      "      CMRmap        \"Default colormaps on color images often reproduce to\n",
      "                    confusing grayscale images. The proposed colormap\n",
      "                    maintains an aesthetically pleasing color image that\n",
      "                    automatically reproduces to a monotonic grayscale with\n",
      "                    discrete, quantifiable saturation levels.\" [#]_\n",
      "      cubehelix     Unlike most other color schemes cubehelix was designed\n",
      "                    by D.A. Green to be monotonically increasing in terms\n",
      "                    of perceived brightness. Also, when printed on a black\n",
      "                    and white postscript printer, the scheme results in a\n",
      "                    greyscale with monotonically increasing brightness.\n",
      "                    This color scheme is named cubehelix because the (r, g, b)\n",
      "                    values produced can be visualised as a squashed helix\n",
      "                    around the diagonal in the (r, g, b) color cube.\n",
      "      gnuplot       gnuplot's traditional pm3d scheme\n",
      "                    (black-blue-red-yellow)\n",
      "      gnuplot2      sequential color printable as gray\n",
      "                    (black-blue-violet-yellow-white)\n",
      "      ocean         green-blue-white\n",
      "      rainbow       spectral purple-blue-green-yellow-orange-red colormap\n",
      "                    with diverging luminance\n",
      "      seismic       diverging blue-white-red\n",
      "      nipy_spectral black-purple-blue-green-yellow-red-white spectrum,\n",
      "                    originally from the Neuroimaging in Python project\n",
      "      terrain       mapmaker's colors, blue-green-yellow-brown-white,\n",
      "                    originally from IGOR Pro\n",
      "      turbo         Spectral map (purple-blue-green-yellow-orange-red) with\n",
      "                    a bright center and darker endpoints. A smoother\n",
      "                    alternative to jet.\n",
      "      ============= =======================================================\n",
      "    \n",
      "    The following colormaps are redundant and may be removed in future\n",
      "    versions.  It's recommended to use the names in the descriptions\n",
      "    instead, which produce identical output:\n",
      "    \n",
      "      =========  =======================================================\n",
      "      Colormap   Description\n",
      "      =========  =======================================================\n",
      "      gist_gray  identical to *gray*\n",
      "      gist_yarg  identical to *gray_r*\n",
      "      binary     identical to *gray_r*\n",
      "      =========  =======================================================\n",
      "    \n",
      "    .. rubric:: Footnotes\n",
      "    \n",
      "    .. [#] Rainbow colormaps, ``jet`` in particular, are considered a poor\n",
      "      choice for scientific visualization by many researchers: `Rainbow Color\n",
      "      Map (Still) Considered Harmful\n",
      "      <https://ieeexplore.ieee.org/document/4118486/?arnumber=4118486>`_\n",
      "    \n",
      "    .. [#] Resembles \"BkBlAqGrYeOrReViWh200\" from NCAR Command\n",
      "      Language. See `Color Table Gallery\n",
      "      <https://www.ncl.ucar.edu/Document/Graphics/color_table_gallery.shtml>`_\n",
      "    \n",
      "    .. [#] See `Diverging Color Maps for Scientific Visualization\n",
      "      <http://www.kennethmoreland.com/color-maps/>`_ by Kenneth Moreland.\n",
      "    \n",
      "    .. [#] See `A Color Map for Effective Black-and-White Rendering of\n",
      "      Color-Scale Images\n",
      "      <https://www.mathworks.com/matlabcentral/fileexchange/2662-cmrmap-m>`_\n",
      "      by Carey Rappaport\n",
      "\n"
     ]
    }
   ],
   "source": [
    "help(plt.colormaps)"
   ]
  },
  {
   "cell_type": "code",
   "execution_count": 18,
   "metadata": {},
   "outputs": [
    {
     "data": {
      "image/png": "[encoded data removed]",
      "text/plain": [
       "<Figure size 288x288 with 1 Axes>"
      ]
     },
     "metadata": {
      "needs_background": "light"
     },
     "output_type": "display_data"
    },
    {
     "data": {
      "image/png": "[encoded data removed]",
      "text/plain": [
       "<Figure size 288x288 with 1 Axes>"
      ]
     },
     "metadata": {
      "needs_background": "light"
     },
     "output_type": "display_data"
    },
    {
     "data": {
      "image/png": "[encoded data removed]",
      "text/plain": [
       "<Figure size 288x288 with 1 Axes>"
      ]
     },
     "metadata": {
      "needs_background": "light"
     },
     "output_type": "display_data"
    },
    {
     "data": {
      "image/png": "[encoded data removed]",
      "text/plain": [
       "<Figure size 288x288 with 1 Axes>"
      ]
     },
     "metadata": {
      "needs_background": "light"
     },
     "output_type": "display_data"
    },
    {
     "data": {
      "image/png": "[encoded data removed]",
      "text/plain": [
       "<Figure size 288x288 with 1 Axes>"
      ]
     },
     "metadata": {
      "needs_background": "light"
     },
     "output_type": "display_data"
    }
   ],
   "source": [
    "for i in range(5):\n",
    "    plt.matshow(digits.images[i])"
   ]
  },
  {
   "cell_type": "code",
   "execution_count": 20,
   "metadata": {},
   "outputs": [
    {
     "data": {
      "text/plain": [
       "array([0, 1, 2, 3, 4])"
      ]
     },
     "execution_count": 20,
     "metadata": {},
     "output_type": "execute_result"
    }
   ],
   "source": [
    "digits.target[0:5]"
   ]
  },
  {
   "cell_type": "code",
   "execution_count": 25,
   "metadata": {},
   "outputs": [],
   "source": [
    "from sklearn.model_selection import train_test_split\n",
    "X_train, X_test, y_train, y_test = train_test_split(digits.data, digits.target, test_size = 0.2)"
   ]
  },
  {
   "cell_type": "code",
   "execution_count": 24,
   "metadata": {},
   "outputs": [],
   "source": [
    "# help(train_test_split)"
   ]
  },
  {
   "cell_type": "code",
   "execution_count": 26,
   "metadata": {},
   "outputs": [
    {
     "data": {
      "text/plain": [
       "1437"
      ]
     },
     "execution_count": 26,
     "metadata": {},
     "output_type": "execute_result"
    }
   ],
   "source": [
    "len(X_train)"
   ]
  },
  {
   "cell_type": "code",
   "execution_count": 27,
   "metadata": {},
   "outputs": [
    {
     "data": {
      "text/plain": [
       "360"
      ]
     },
     "execution_count": 27,
     "metadata": {},
     "output_type": "execute_result"
    }
   ],
   "source": [
    "len(X_test)"
   ]
  },
  {
   "cell_type": "code",
   "execution_count": 28,
   "metadata": {},
   "outputs": [],
   "source": [
    "from sklearn.linear_model import LogisticRegression"
   ]
  },
  {
   "cell_type": "code",
   "execution_count": 29,
   "metadata": {},
   "outputs": [
    {
     "name": "stderr",
     "output_type": "stream",
     "text": [
      "/home/divyaranjan/.local/lib/python3.6/site-packages/sklearn/linear_model/_logistic.py:764: ConvergenceWarning: lbfgs failed to converge (status=1):\n",
      "STOP: TOTAL NO. of ITERATIONS REACHED LIMIT.\n",
      "\n",
      "Increase the number of iterations (max_iter) or scale the data as shown in:\n",
      "    https://scikit-learn.org/stable/modules/preprocessing.html\n",
      "Please also refer to the documentation for alternative solver options:\n",
      "    https://scikit-learn.org/stable/modules/linear_model.html#logistic-regression\n",
      "  extra_warning_msg=_LOGISTIC_SOLVER_CONVERGENCE_MSG)\n"
     ]
    },
    {
     "data": {
      "text/plain": [
       "LogisticRegression()"
      ]
     },
     "execution_count": 29,
     "metadata": {},
     "output_type": "execute_result"
    }
   ],
   "source": [
    "model = LogisticRegression()\n",
    "model.fit(X_train, y_train)"
   ]
  },
  {
   "cell_type": "code",
   "execution_count": 30,
   "metadata": {},
   "outputs": [
    {
     "data": {
      "text/plain": [
       "0.9416666666666667"
      ]
     },
     "execution_count": 30,
     "metadata": {},
     "output_type": "execute_result"
    }
   ],
   "source": [
    "model.score(X_test, y_test)"
   ]
  },
  {
   "cell_type": "code",
   "execution_count": 31,
   "metadata": {},
   "outputs": [
    {
     "data": {
      "text/plain": [
       "<matplotlib.image.AxesImage at 0x7fb609f825f8>"
      ]
     },
     "execution_count": 31,
     "metadata": {},
     "output_type": "execute_result"
    },
    {
     "data": {
      "image/png": "[encoded data removed]",
      "text/plain": [
       "<Figure size 288x288 with 1 Axes>"
      ]
     },
     "metadata": {
      "needs_background": "light"
     },
     "output_type": "display_data"
    }
   ],
   "source": [
    "plt.matshow(digits.images[67])"
   ]
  },
  {
   "cell_type": "code",
   "execution_count": 32,
   "metadata": {},
   "outputs": [
    {
     "data": {
      "text/plain": [
       "6"
      ]
     },
     "execution_count": 32,
     "metadata": {},
     "output_type": "execute_result"
    }
   ],
   "source": [
    "digits.target[67]"
   ]
  },
  {
   "cell_type": "code",
   "execution_count": 34,
   "metadata": {},
   "outputs": [
    {
     "data": {
      "text/plain": [
       "array([6])"
      ]
     },
     "execution_count": 34,
     "metadata": {},
     "output_type": "execute_result"
    }
   ],
   "source": [
    "model.predict([digits.data[67]])"
   ]
  },
  {
   "cell_type": "code",
   "execution_count": 36,
   "metadata": {},
   "outputs": [
    {
     "data": {
      "text/plain": [
       "array([0, 1, 2, 3, 4, 5])"
      ]
     },
     "execution_count": 36,
     "metadata": {},
     "output_type": "execute_result"
    }
   ],
   "source": [
    "model.predict(digits.data[0:6])"
   ]
  },
  {
   "cell_type": "code",
   "execution_count": 41,
   "metadata": {},
   "outputs": [
    {
     "data": {
      "text/plain": [
       "array([[42,  0,  0,  0,  0,  0,  0,  0,  0,  0],\n",
       "       [ 0, 39,  0,  0,  1,  0,  0,  0,  1,  0],\n",
       "       [ 0,  1, 36,  0,  0,  0,  0,  0,  0,  0],\n",
       "       [ 0,  0,  0, 32,  0,  3,  0,  0,  0,  0],\n",
       "       [ 0,  0,  0,  0, 37,  0,  0,  0,  0,  0],\n",
       "       [ 0,  0,  0,  0,  0, 39,  1,  0,  0,  0],\n",
       "       [ 0,  1,  0,  0,  0,  0, 30,  0,  0,  0],\n",
       "       [ 0,  1,  0,  1,  1,  0,  0, 30,  0,  0],\n",
       "       [ 0,  4,  0,  0,  0,  1,  0,  0, 26,  0],\n",
       "       [ 0,  1,  0,  0,  0,  3,  0,  0,  1, 28]])"
      ]
     },
     "execution_count": 41,
     "metadata": {},
     "output_type": "execute_result"
    }
   ],
   "source": [
    "y_predicted = model.predict(X_test)\n",
    "from sklearn.metrics import confusion_matrix\n",
    "\n",
    "cm = confusion_matrix(y_test ,y_predicted)\n",
    "cm"
   ]
  },
  {
   "cell_type": "markdown",
   "metadata": {},
   "source": []
  },
  {
   "cell_type": "code",
   "execution_count": 42,
   "metadata": {},
   "outputs": [
    {
     "ename": "ModuleNotFoundError",
     "evalue": "No module named 'seaborn'",
     "output_type": "error",
     "traceback": [
      "\u001b[0;31m---------------------------------------------------------------------------\u001b[0m",
      "\u001b[0;31mModuleNotFoundError\u001b[0m                       Traceback (most recent call last)",
      "\u001b[0;32m<ipython-input-42-64513534baf3>\u001b[0m in \u001b[0;36m<module>\u001b[0;34m\u001b[0m\n\u001b[0;32m----> 1\u001b[0;31m \u001b[0;32mimport\u001b[0m \u001b[0mseaborn\u001b[0m \u001b[0;32mas\u001b[0m \u001b[0msn\u001b[0m\u001b[0;34m\u001b[0m\u001b[0;34m\u001b[0m\u001b[0m\n\u001b[0m\u001b[1;32m      2\u001b[0m \u001b[0mplt\u001b[0m\u001b[0;34m.\u001b[0m\u001b[0mfigure\u001b[0m\u001b[0;34m(\u001b[0m\u001b[0mfigsize\u001b[0m \u001b[0;34m=\u001b[0m \u001b[0;34m(\u001b[0m\u001b[0;36m10\u001b[0m\u001b[0;34m,\u001b[0m\u001b[0;36m7\u001b[0m\u001b[0;34m)\u001b[0m\u001b[0;34m)\u001b[0m\u001b[0;34m\u001b[0m\u001b[0;34m\u001b[0m\u001b[0m\n\u001b[1;32m      3\u001b[0m \u001b[0msn\u001b[0m\u001b[0;34m.\u001b[0m\u001b[0mheatmap\u001b[0m\u001b[0;34m(\u001b[0m\u001b[0mcm\u001b[0m\u001b[0;34m,\u001b[0m \u001b[0mannot\u001b[0m \u001b[0;34m=\u001b[0m \u001b[0;32mTrue\u001b[0m\u001b[0;34m)\u001b[0m\u001b[0;34m\u001b[0m\u001b[0;34m\u001b[0m\u001b[0m\n\u001b[1;32m      4\u001b[0m \u001b[0mplt\u001b[0m\u001b[0;34m.\u001b[0m\u001b[0mxlabel\u001b[0m\u001b[0;34m(\u001b[0m\u001b[0;34m'Predicted'\u001b[0m\u001b[0;34m)\u001b[0m\u001b[0;34m\u001b[0m\u001b[0;34m\u001b[0m\u001b[0m\n\u001b[1;32m      5\u001b[0m \u001b[0mplt\u001b[0m\u001b[0;34m.\u001b[0m\u001b[0mylabel\u001b[0m\u001b[0;34m(\u001b[0m\u001b[0;34m'Truth'\u001b[0m\u001b[0;34m)\u001b[0m\u001b[0;34m\u001b[0m\u001b[0;34m\u001b[0m\u001b[0m\n",
      "\u001b[0;31mModuleNotFoundError\u001b[0m: No module named 'seaborn'"
     ]
    }
   ],
   "source": [
    "import seaborn as sn\n",
    "plt.figure(figsize = (10,7))\n",
    "sn.heatmap(cm, annot = True)\n",
    "plt.xlabel('Predicted')\n",
    "plt.ylabel('Truth')"
   ]
  },
  {
   "cell_type": "code",
   "execution_count": 46,
   "metadata": {},
   "outputs": [
    {
     "data": {
      "text/plain": [
       "<matplotlib.colorbar.Colorbar at 0x7fb60bebf518>"
      ]
     },
     "execution_count": 46,
     "metadata": {},
     "output_type": "execute_result"
    },
    {
     "data": {
      "text/plain": [
       "<Figure size 720x504 with 0 Axes>"
      ]
     },
     "metadata": {},
     "output_type": "display_data"
    },
    {
     "data": {
      "image/png": "[encoded data removed]",
      "text/plain": [
       "<Figure size 288x288 with 2 Axes>"
      ]
     },
     "metadata": {
      "needs_background": "light"
     },
     "output_type": "display_data"
    }
   ],
   "source": [
    "plt.figure(figsize = (10,7))\n",
    "plt.matshow(cm, cmap = 'hot')\n",
    "plt.xlabel('Predicted')\n",
    "plt.ylabel('Truth')\n",
    "plt.colorbar()"
   ]
  },
  {
   "cell_type": "code",
   "execution_count": null,
   "metadata": {},
   "outputs": [],
   "source": []
  }
 ],
 "metadata": {
  "kernelspec": {
   "display_name": "Python 3",
   "language": "python",
   "name": "python3"
  },
  "language_info": {
   "codemirror_mode": {
    "name": "ipython",
    "version": 3
   },
   "file_extension": ".py",
   "mimetype": "text/x-python",
   "name": "python",
   "nbconvert_exporter": "python",
   "pygments_lexer": "ipython3",
   "version": "3.6.9"
  }
 },
 "nbformat": 4,
 "nbformat_minor": 2
}
